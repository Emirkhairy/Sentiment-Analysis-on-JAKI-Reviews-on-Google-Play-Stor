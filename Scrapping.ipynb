{
 "cells": [
  {
   "cell_type": "code",
   "execution_count": 1,
   "id": "8afd412a",
   "metadata": {},
   "outputs": [
    {
     "name": "stderr",
     "output_type": "stream",
     "text": [
      "C:\\Users\\ASUS\\anaconda3\\lib\\site-packages\\scipy\\__init__.py:146: UserWarning: A NumPy version >=1.16.5 and <1.23.0 is required for this version of SciPy (detected version 1.24.3\n",
      "  warnings.warn(f\"A NumPy version >={np_minversion} and <{np_maxversion}\"\n"
     ]
    }
   ],
   "source": [
    "import pandas as pd\n",
    "import numpy as np \n",
    "import seaborn as sns\n",
    "import matplotlib.pyplot as plt\n",
    "from google_play_scraper import app,Sort, reviews_all"
   ]
  },
  {
   "cell_type": "markdown",
   "id": "025311a2",
   "metadata": {},
   "source": [
    "## Scrapping Data"
   ]
  },
  {
   "cell_type": "markdown",
   "id": "deeb7ce6",
   "metadata": {},
   "source": [
    "Use Reviews_all for scraping data from google_play_scraper to gather reviews data from Google Play Store."
   ]
  },
  {
   "cell_type": "code",
   "execution_count": 2,
   "id": "146098b4",
   "metadata": {},
   "outputs": [],
   "source": [
    "data = reviews_all(\n",
    "            'id.go.jakarta.smartcity.jaki',\n",
    "            sleep_milliseconds = 0,\n",
    "            lang = 'id',\n",
    "            country = 'id',\n",
    "            #sort = Sort.NEWEST,\n",
    "\n",
    ")"
   ]
  },
  {
   "cell_type": "code",
   "execution_count": 3,
   "id": "c3bd5624",
   "metadata": {},
   "outputs": [
    {
     "data": {
      "text/html": [
       "<div>\n",
       "<style scoped>\n",
       "    .dataframe tbody tr th:only-of-type {\n",
       "        vertical-align: middle;\n",
       "    }\n",
       "\n",
       "    .dataframe tbody tr th {\n",
       "        vertical-align: top;\n",
       "    }\n",
       "\n",
       "    .dataframe thead th {\n",
       "        text-align: right;\n",
       "    }\n",
       "</style>\n",
       "<table border=\"1\" class=\"dataframe\">\n",
       "  <thead>\n",
       "    <tr style=\"text-align: right;\">\n",
       "      <th></th>\n",
       "      <th>reviewId</th>\n",
       "      <th>userName</th>\n",
       "      <th>userImage</th>\n",
       "      <th>content</th>\n",
       "      <th>score</th>\n",
       "      <th>thumbsUpCount</th>\n",
       "      <th>reviewCreatedVersion</th>\n",
       "      <th>at</th>\n",
       "      <th>replyContent</th>\n",
       "      <th>repliedAt</th>\n",
       "      <th>appVersion</th>\n",
       "    </tr>\n",
       "  </thead>\n",
       "  <tbody>\n",
       "    <tr>\n",
       "      <th>0</th>\n",
       "      <td>54544d1c-3a39-44e8-8a45-c65f417507e9</td>\n",
       "      <td>Jaka Cahyadi</td>\n",
       "      <td>https://play-lh.googleusercontent.com/a-/ALV-U...</td>\n",
       "      <td>Kurang bagus</td>\n",
       "      <td>1</td>\n",
       "      <td>0</td>\n",
       "      <td>3.0.3</td>\n",
       "      <td>2023-10-31 10:52:40</td>\n",
       "      <td>Halo Kak Jaka Cahyadi jika ada kendala lain mo...</td>\n",
       "      <td>2023-10-31 18:04:27</td>\n",
       "      <td>3.0.3</td>\n",
       "    </tr>\n",
       "    <tr>\n",
       "      <th>1</th>\n",
       "      <td>8b6d196a-2ec7-4c10-968b-1cd6ec2fd59f</td>\n",
       "      <td>Sugeng Turino</td>\n",
       "      <td>https://play-lh.googleusercontent.com/a/ACg8oc...</td>\n",
       "      <td>Sangat membantu</td>\n",
       "      <td>5</td>\n",
       "      <td>0</td>\n",
       "      <td>3.0.3</td>\n",
       "      <td>2023-10-30 17:34:29</td>\n",
       "      <td>Hi kak Sugeng terima kasih atas ulasannya. Kam...</td>\n",
       "      <td>2023-10-31 18:01:44</td>\n",
       "      <td>3.0.3</td>\n",
       "    </tr>\n",
       "    <tr>\n",
       "      <th>2</th>\n",
       "      <td>9ce5af1e-0148-4f7a-9a44-5d4d01a5a3c2</td>\n",
       "      <td>USMAN SE</td>\n",
       "      <td>https://play-lh.googleusercontent.com/a-/ALV-U...</td>\n",
       "      <td>Baii</td>\n",
       "      <td>5</td>\n",
       "      <td>0</td>\n",
       "      <td>3.0.3</td>\n",
       "      <td>2023-10-30 08:39:02</td>\n",
       "      <td>Hi, USMAN SE terima kasih atas ulasannya. Kami...</td>\n",
       "      <td>2023-10-31 11:12:23</td>\n",
       "      <td>3.0.3</td>\n",
       "    </tr>\n",
       "    <tr>\n",
       "      <th>3</th>\n",
       "      <td>fe505a09-0099-4ee4-a871-6be26da27e0c</td>\n",
       "      <td>Priyatna Laksono</td>\n",
       "      <td>https://play-lh.googleusercontent.com/a-/ALV-U...</td>\n",
       "      <td>Develop. System nya sampah, masa mau buat lapo...</td>\n",
       "      <td>1</td>\n",
       "      <td>0</td>\n",
       "      <td>3.0.3</td>\n",
       "      <td>2023-10-24 18:35:12</td>\n",
       "      <td>Halo Kak Priyatna, jika ada kendala lain mohon...</td>\n",
       "      <td>2023-10-26 10:50:28</td>\n",
       "      <td>3.0.3</td>\n",
       "    </tr>\n",
       "    <tr>\n",
       "      <th>4</th>\n",
       "      <td>83245ee7-8530-41aa-bc4b-4afe94f5691b</td>\n",
       "      <td>Andika Aprilliansyah</td>\n",
       "      <td>https://play-lh.googleusercontent.com/a-/ALV-U...</td>\n",
       "      <td>nice</td>\n",
       "      <td>5</td>\n",
       "      <td>0</td>\n",
       "      <td>3.0.3</td>\n",
       "      <td>2023-10-24 11:38:09</td>\n",
       "      <td>Hi, Andika Aprilliansyah! terima kasih atas ul...</td>\n",
       "      <td>2023-10-24 15:53:22</td>\n",
       "      <td>3.0.3</td>\n",
       "    </tr>\n",
       "  </tbody>\n",
       "</table>\n",
       "</div>"
      ],
      "text/plain": [
       "                               reviewId              userName  \\\n",
       "0  54544d1c-3a39-44e8-8a45-c65f417507e9          Jaka Cahyadi   \n",
       "1  8b6d196a-2ec7-4c10-968b-1cd6ec2fd59f         Sugeng Turino   \n",
       "2  9ce5af1e-0148-4f7a-9a44-5d4d01a5a3c2              USMAN SE   \n",
       "3  fe505a09-0099-4ee4-a871-6be26da27e0c      Priyatna Laksono   \n",
       "4  83245ee7-8530-41aa-bc4b-4afe94f5691b  Andika Aprilliansyah   \n",
       "\n",
       "                                           userImage  \\\n",
       "0  https://play-lh.googleusercontent.com/a-/ALV-U...   \n",
       "1  https://play-lh.googleusercontent.com/a/ACg8oc...   \n",
       "2  https://play-lh.googleusercontent.com/a-/ALV-U...   \n",
       "3  https://play-lh.googleusercontent.com/a-/ALV-U...   \n",
       "4  https://play-lh.googleusercontent.com/a-/ALV-U...   \n",
       "\n",
       "                                             content  score  thumbsUpCount  \\\n",
       "0                                       Kurang bagus      1              0   \n",
       "1                                    Sangat membantu      5              0   \n",
       "2                                               Baii      5              0   \n",
       "3  Develop. System nya sampah, masa mau buat lapo...      1              0   \n",
       "4                                               nice      5              0   \n",
       "\n",
       "  reviewCreatedVersion                  at  \\\n",
       "0                3.0.3 2023-10-31 10:52:40   \n",
       "1                3.0.3 2023-10-30 17:34:29   \n",
       "2                3.0.3 2023-10-30 08:39:02   \n",
       "3                3.0.3 2023-10-24 18:35:12   \n",
       "4                3.0.3 2023-10-24 11:38:09   \n",
       "\n",
       "                                        replyContent           repliedAt  \\\n",
       "0  Halo Kak Jaka Cahyadi jika ada kendala lain mo... 2023-10-31 18:04:27   \n",
       "1  Hi kak Sugeng terima kasih atas ulasannya. Kam... 2023-10-31 18:01:44   \n",
       "2  Hi, USMAN SE terima kasih atas ulasannya. Kami... 2023-10-31 11:12:23   \n",
       "3  Halo Kak Priyatna, jika ada kendala lain mohon... 2023-10-26 10:50:28   \n",
       "4  Hi, Andika Aprilliansyah! terima kasih atas ul... 2023-10-24 15:53:22   \n",
       "\n",
       "  appVersion  \n",
       "0      3.0.3  \n",
       "1      3.0.3  \n",
       "2      3.0.3  \n",
       "3      3.0.3  \n",
       "4      3.0.3  "
      ]
     },
     "execution_count": 3,
     "metadata": {},
     "output_type": "execute_result"
    }
   ],
   "source": [
    "df = pd.DataFrame(np.array(data), columns = ['review'])\n",
    "df = df.join(pd.DataFrame(df.pop('review').tolist()))\n",
    "df.head()"
   ]
  },
  {
   "cell_type": "markdown",
   "id": "9238e0ab",
   "metadata": {},
   "source": [
    "the 'at' columns were string before, transform it to datetime to further resarch"
   ]
  },
  {
   "cell_type": "code",
   "execution_count": 4,
   "id": "56445606",
   "metadata": {},
   "outputs": [],
   "source": [
    "df['at']=pd.to_datetime(df['at'])"
   ]
  },
  {
   "cell_type": "code",
   "execution_count": 10,
   "id": "0855d90b",
   "metadata": {},
   "outputs": [],
   "source": [
    "df=df.query('at >= \"2022-01-01 \" and at < \"2023-01-01\"')"
   ]
  },
  {
   "cell_type": "code",
   "execution_count": 11,
   "id": "43a0262d",
   "metadata": {},
   "outputs": [
    {
     "name": "stdout",
     "output_type": "stream",
     "text": [
      "<class 'pandas.core.frame.DataFrame'>\n",
      "Int64Index: 747 entries, 233 to 979\n",
      "Data columns (total 11 columns):\n",
      " #   Column                Non-Null Count  Dtype         \n",
      "---  ------                --------------  -----         \n",
      " 0   reviewId              747 non-null    object        \n",
      " 1   userName              747 non-null    object        \n",
      " 2   userImage             747 non-null    object        \n",
      " 3   content               747 non-null    object        \n",
      " 4   score                 747 non-null    int64         \n",
      " 5   thumbsUpCount         747 non-null    int64         \n",
      " 6   reviewCreatedVersion  586 non-null    object        \n",
      " 7   at                    747 non-null    datetime64[ns]\n",
      " 8   replyContent          685 non-null    object        \n",
      " 9   repliedAt             685 non-null    datetime64[ns]\n",
      " 10  appVersion            586 non-null    object        \n",
      "dtypes: datetime64[ns](2), int64(2), object(7)\n",
      "memory usage: 70.0+ KB\n"
     ]
    }
   ],
   "source": [
    "df.info()"
   ]
  },
  {
   "cell_type": "code",
   "execution_count": 12,
   "id": "d0a30cbf",
   "metadata": {},
   "outputs": [],
   "source": [
    "df.to_csv('dfs.csv',index=False)"
   ]
  },
  {
   "cell_type": "code",
   "execution_count": null,
   "id": "ea02d430",
   "metadata": {},
   "outputs": [],
   "source": []
  }
 ],
 "metadata": {
  "kernelspec": {
   "display_name": "Python 3 (ipykernel)",
   "language": "python",
   "name": "python3"
  },
  "language_info": {
   "codemirror_mode": {
    "name": "ipython",
    "version": 3
   },
   "file_extension": ".py",
   "mimetype": "text/x-python",
   "name": "python",
   "nbconvert_exporter": "python",
   "pygments_lexer": "ipython3",
   "version": "3.9.7"
  }
 },
 "nbformat": 4,
 "nbformat_minor": 5
}
